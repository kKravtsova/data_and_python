{
  "nbformat": 4,
  "nbformat_minor": 0,
  "metadata": {
    "colab": {
      "provenance": [],
      "authorship_tag": "ABX9TyOTrtbu0jJcUa9qQcpQ1+zq",
      "include_colab_link": true
    },
    "kernelspec": {
      "name": "python3",
      "display_name": "Python 3"
    },
    "language_info": {
      "name": "python"
    }
  },
  "cells": [
    {
      "cell_type": "markdown",
      "metadata": {
        "id": "view-in-github",
        "colab_type": "text"
      },
      "source": [
        "<a href=\"https://colab.research.google.com/github/kKravtsova/data_and_python/blob/main/D%26P_les_1.ipynb\" target=\"_parent\"><img src=\"https://colab.research.google.com/assets/colab-badge.svg\" alt=\"Open In Colab\"/></a>"
      ]
    },
    {
      "cell_type": "code",
      "execution_count": 1,
      "metadata": {
        "colab": {
          "base_uri": "https://localhost:8080/"
        },
        "id": "pG6D5d6ftLhS",
        "outputId": "c0a79ea9-8617-481a-eee1-29e884d7bd19"
      },
      "outputs": [
        {
          "output_type": "stream",
          "name": "stdout",
          "text": [
            "Testing the code cell\n"
          ]
        }
      ],
      "source": [
        "# print a message on the screen to test editing and running a python function in a code cell then change the message to answer the question - Was this worksheet helpful?\n",
        "\n",
        "def show_message(message_text):\n",
        "  print(message_text)\n",
        "\n",
        "show_message(\"Testing the code cell\")"
      ]
    },
    {
      "cell_type": "code",
      "source": [],
      "metadata": {
        "id": "0xL8gfl5t0al"
      },
      "execution_count": null,
      "outputs": []
    }
  ]
}